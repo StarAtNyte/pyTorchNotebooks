{
 "cells": [
  {
   "cell_type": "markdown",
   "id": "d8083a17-8a6a-417e-bbc7-2b657e446f9a",
   "metadata": {
    "jp-MarkdownHeadingCollapsed": true,
    "tags": []
   },
   "source": [
    "## PyTorch vs NumPy"
   ]
  },
  {
   "cell_type": "code",
   "execution_count": 2,
   "id": "4c5229c4-a0eb-4bfd-925d-7eab24fa19a0",
   "metadata": {},
   "outputs": [],
   "source": [
    "import torch \n",
    "import numpy as np"
   ]
  },
  {
   "cell_type": "code",
   "execution_count": 3,
   "id": "1c3ef6d0-41ba-4fc3-a006-46c4f4213d91",
   "metadata": {},
   "outputs": [
    {
     "data": {
      "text/plain": [
       "array([ 9, 11])"
      ]
     },
     "execution_count": 3,
     "metadata": {},
     "output_type": "execute_result"
    }
   ],
   "source": [
    "a = np.array([1,2])\n",
    "b = np.array([8,9])\n",
    "c = a+ b\n",
    "c"
   ]
  },
  {
   "cell_type": "code",
   "execution_count": 7,
   "id": "d0351123-bf90-4551-b5a4-53e50606618e",
   "metadata": {},
   "outputs": [
    {
     "data": {
      "text/plain": [
       "tensor([ 9, 11])"
      ]
     },
     "execution_count": 7,
     "metadata": {},
     "output_type": "execute_result"
    }
   ],
   "source": [
    "#Adding the same arrays with PyTorch looks like this:\n",
    "a = torch.tensor([1,2])\n",
    "b = torch.tensor([8,9])\n",
    "c = a+b\n",
    "c"
   ]
  },
  {
   "cell_type": "code",
   "execution_count": 19,
   "id": "f4658a82-0e19-4abf-aa91-6bfafb4ae872",
   "metadata": {},
   "outputs": [
    {
     "data": {
      "text/plain": [
       "array([1, 2])"
      ]
     },
     "execution_count": 19,
     "metadata": {},
     "output_type": "execute_result"
    }
   ],
   "source": [
    "#Fortunately, you can go from NumPy to PyTorch and vice versa\n",
    "a = torch.tensor([1,2])\n",
    "a.numpy()"
   ]
  },
  {
   "cell_type": "code",
   "execution_count": 30,
   "id": "a9b662ce-a52d-4bc2-b582-d378f4d70704",
   "metadata": {},
   "outputs": [
    {
     "data": {
      "text/plain": [
       "tensor([1, 2])"
      ]
     },
     "execution_count": 30,
     "metadata": {},
     "output_type": "execute_result"
    }
   ],
   "source": [
    "a = np.array([1,2])\n",
    "torch.from_numpy(a)"
   ]
  },
  {
   "cell_type": "markdown",
   "id": "e616971b-9915-4509-b537-0f40f43168ec",
   "metadata": {
    "jp-MarkdownHeadingCollapsed": true,
    "tags": []
   },
   "source": [
    "## Tensors"
   ]
  },
  {
   "cell_type": "code",
   "execution_count": 20,
   "id": "7b34c39f-22eb-4045-96da-b023dccf7fa0",
   "metadata": {},
   "outputs": [
    {
     "data": {
      "text/plain": [
       "tensor([[1, 2],\n",
       "        [2, 1]])"
      ]
     },
     "execution_count": 20,
     "metadata": {},
     "output_type": "execute_result"
    }
   ],
   "source": [
    "#You can create a tensor from integers:\n",
    "torch.tensor([[1,2], [2,1]])"
   ]
  },
  {
   "cell_type": "code",
   "execution_count": 21,
   "id": "2bfadd0d-9b0b-49bc-9f6c-0217ae021e43",
   "metadata": {},
   "outputs": [
    {
     "data": {
      "text/plain": [
       "tensor([[1., 2.],\n",
       "        [2., 1.]])"
      ]
     },
     "execution_count": 21,
     "metadata": {},
     "output_type": "execute_result"
    }
   ],
   "source": [
    "#You can create a tensor from floats:\n",
    "torch.FloatTensor([[1,2],[2,1]])"
   ]
  },
  {
   "cell_type": "code",
   "execution_count": 22,
   "id": "b7e5212f-fa9f-40e6-91f0-6d2bd0183fa7",
   "metadata": {},
   "outputs": [
    {
     "data": {
      "text/plain": [
       "tensor([[True, True],\n",
       "        [True, True]])"
      ]
     },
     "execution_count": 22,
     "metadata": {},
     "output_type": "execute_result"
    }
   ],
   "source": [
    "#Or define the type like so:\n",
    "torch.tensor([[1,2], [2,1]], dtype = torch.bool)"
   ]
  },
  {
   "cell_type": "code",
   "execution_count": 23,
   "id": "d02316b2-37d7-4eff-868d-90c47bbbe364",
   "metadata": {},
   "outputs": [
    {
     "data": {
      "text/plain": [
       "tensor([[0.5272, 0.5737],\n",
       "        [0.3331, 0.3759],\n",
       "        [0.5579, 0.6327]])"
      ]
     },
     "execution_count": 23,
     "metadata": {},
     "output_type": "execute_result"
    }
   ],
   "source": [
    "#you can create a matrix with random numbers like this:\n",
    "torch.rand(3,2)"
   ]
  },
  {
   "cell_type": "code",
   "execution_count": 24,
   "id": "70340949-e30c-4a46-a92f-1d1903613fd8",
   "metadata": {},
   "outputs": [
    {
     "data": {
      "text/plain": [
       "tensor([[1., 1.],\n",
       "        [1., 1.],\n",
       "        [1., 1.]])"
      ]
     },
     "execution_count": 24,
     "metadata": {},
     "output_type": "execute_result"
    }
   ],
   "source": [
    "#Or one full of ones:\n",
    "torch.ones(3,2)"
   ]
  },
  {
   "cell_type": "code",
   "execution_count": 25,
   "id": "3e5e5e28-e815-42cf-8e12-ecd0eaf997f2",
   "metadata": {},
   "outputs": [
    {
     "name": "stdout",
     "output_type": "stream",
     "text": [
      "tensor([[2, 3],\n",
      "        [1, 2]])\n",
      "sum: 8\n"
     ]
    }
   ],
   "source": [
    "#PyTorch has a variety of useful operations:\n",
    "x = torch.tensor([[2,3], [1,2]])\n",
    "print(x)\n",
    "print(f'sum: {x.sum()}')"
   ]
  },
  {
   "cell_type": "code",
   "execution_count": 26,
   "id": "ad552936-2a35-440b-bc80-13d5787d2d09",
   "metadata": {},
   "outputs": [
    {
     "data": {
      "text/plain": [
       "tensor([[2, 1],\n",
       "        [3, 2]])"
      ]
     },
     "execution_count": 26,
     "metadata": {},
     "output_type": "execute_result"
    }
   ],
   "source": [
    "#Get the transpose of a 2-D tensor:\n",
    "x.t()"
   ]
  },
  {
   "cell_type": "code",
   "execution_count": 27,
   "id": "d4cf8f83-6da6-4a69-9329-8e2f5ec0e384",
   "metadata": {},
   "outputs": [
    {
     "data": {
      "text/plain": [
       "torch.Size([2, 2])"
      ]
     },
     "execution_count": 27,
     "metadata": {},
     "output_type": "execute_result"
    }
   ],
   "source": [
    "#Get the shape of each dimension:\n",
    "x.size()"
   ]
  },
  {
   "cell_type": "code",
   "execution_count": 28,
   "id": "ce4819c8-8555-440c-abb7-2950417910a3",
   "metadata": {},
   "outputs": [
    {
     "data": {
      "text/plain": [
       "tensor([[4, 5],\n",
       "        [6, 3]])"
      ]
     },
     "execution_count": 28,
     "metadata": {},
     "output_type": "execute_result"
    }
   ],
   "source": [
    "#Generally, performing some operation creates a new Tensor:\n",
    "\n",
    "y = torch.tensor([[2,2], [5,1]])\n",
    "z = x.add(y)\n",
    "z"
   ]
  },
  {
   "cell_type": "code",
   "execution_count": 29,
   "id": "d4e15e0a-1907-4d65-9ab4-3157f614e4f1",
   "metadata": {},
   "outputs": [
    {
     "data": {
      "text/plain": [
       "tensor([[4, 5],\n",
       "        [6, 3]])"
      ]
     },
     "execution_count": 29,
     "metadata": {},
     "output_type": "execute_result"
    }
   ],
   "source": [
    "#But you can do it in-place:\n",
    "x.add_(y)"
   ]
  },
  {
   "cell_type": "markdown",
   "id": "d2f17b98-00d3-48dd-8367-2f6d1fb05d95",
   "metadata": {
    "tags": []
   },
   "source": [
    "## Running on GPU"
   ]
  },
  {
   "cell_type": "code",
   "execution_count": 35,
   "id": "8ac3a5e7-fc6a-4c09-ba39-31da774e28d7",
   "metadata": {},
   "outputs": [
    {
     "data": {
      "text/plain": [
       "device(type='cuda')"
      ]
     },
     "execution_count": 35,
     "metadata": {},
     "output_type": "execute_result"
    }
   ],
   "source": [
    "#Let’s start by checking if GPU is available:\n",
    "device = torch.device(\"cuda\") if torch.cuda.is_available() else torch.device(\"cpu\")\n",
    "device"
   ]
  },
  {
   "cell_type": "code",
   "execution_count": 36,
   "id": "1bccdfd9-3ed6-4604-a219-9a1f5cde8e84",
   "metadata": {},
   "outputs": [
    {
     "data": {
      "text/plain": [
       "tensor([[2, 3],\n",
       "        [1, 2]], device='cuda:0')"
      ]
     },
     "execution_count": 36,
     "metadata": {},
     "output_type": "execute_result"
    }
   ],
   "source": [
    "#Let’s store a Tensor on it:\n",
    "x = torch.tensor([[2,3], [1,2]])\n",
    "x.to(device)"
   ]
  },
  {
   "cell_type": "code",
   "execution_count": 38,
   "id": "c97fbcb2-54d2-456a-812f-e95acf72be58",
   "metadata": {},
   "outputs": [
    {
     "data": {
      "text/plain": [
       "tensor([[4, 5],\n",
       "        [6, 3]], device='cuda:0')"
      ]
     },
     "execution_count": 38,
     "metadata": {},
     "output_type": "execute_result"
    }
   ],
   "source": [
    "#Notice that our Tensor is now on device cuda:0. What can we do with it? Pretty much everything\n",
    "x = x.to(device)\n",
    "y = torch.tensor([[2,2],[5,1]])\n",
    "y = y.to(device)\n",
    "x.add(y)"
   ]
  }
 ],
 "metadata": {
  "kernelspec": {
   "display_name": "Python 3 (ipykernel)",
   "language": "python",
   "name": "python3"
  },
  "language_info": {
   "codemirror_mode": {
    "name": "ipython",
    "version": 3
   },
   "file_extension": ".py",
   "mimetype": "text/x-python",
   "name": "python",
   "nbconvert_exporter": "python",
   "pygments_lexer": "ipython3",
   "version": "3.11.3"
  }
 },
 "nbformat": 4,
 "nbformat_minor": 5
}
